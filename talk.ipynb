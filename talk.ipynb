{
 "cells": [
  {
   "cell_type": "raw",
   "metadata": {
    "slideshow": {
     "slide_type": "skip"
    }
   },
   "source": [
    "Meta data \n",
    "\n",
    "{\n",
    "  \"rise\": {\n",
    "    \"theme\": \"black\",\n",
    "    \"controls\" : false,\n",
    "    \"history\" : false\n",
    "  }\n",
    "}\n"
   ]
  },
  {
   "cell_type": "markdown",
   "metadata": {
    "slideshow": {
     "slide_type": "slide"
    }
   },
   "source": [
    "# Title not too long\n",
    "\n",
    "\n",
    "Some blabla\n",
    "\n",
    "\n",
    "Some math :\n",
    "\n",
    "$$ \\sqrt{\\frac{2 \\pi}{x}} = m.T \\times \\int_y f(y) dy $$\n",
    "\n",
    "- What hapens if\n",
    "- There is too\n",
    "- Much lines \n",
    "- in the slides ?\n",
    "- Can we read them all ?\n",
    "\n",
    "\n"
   ]
  },
  {
   "cell_type": "markdown",
   "metadata": {
    "slideshow": {
     "slide_type": "slide"
    }
   },
   "source": [
    "# Title not too long\n",
    "\n",
    "\n",
    "Some blabla\n",
    "\n",
    "\n",
    "Some math :\n",
    "\n",
    "$$ \\sqrt{\\frac{2 \\pi}{x}} = m.T \\times \\int_y f(y) dy $$\n",
    "\n",
    "- What hapens if\n",
    "- There is too\n",
    "- Much lines \n",
    "- in the slides ?\n",
    "- Can we read them all ?\n",
    "- Like\n",
    "- this\n",
    "- where\n",
    "- is\n",
    "- my\n",
    "- chocolate\n",
    "- bar  ?\n",
    "- Who\n",
    "- took\n",
    "- my\n",
    "- cookie !\n",
    "\n",
    "\n"
   ]
  },
  {
   "cell_type": "markdown",
   "metadata": {
    "slideshow": {
     "slide_type": "slide"
    }
   },
   "source": [
    "![Chaton](https://www.zooplus.fr/magazine/wp-content/uploads/2019/06/arriv%C3%A9e-dun-chaton-%C3%A0-la-maison-768x547.jpeg)\n"
   ]
  },
  {
   "cell_type": "markdown",
   "metadata": {
    "slideshow": {
     "slide_type": "slide"
    }
   },
   "source": [
    "# Title\n",
    "\n",
    "some text\n",
    "\n",
    "## Subtitle\n",
    "\n",
    "some text\n",
    "\n",
    "### h3\n",
    "\n",
    "some text\n",
    "\n"
   ]
  },
  {
   "cell_type": "markdown",
   "metadata": {
    "slideshow": {
     "slide_type": "subslide"
    }
   },
   "source": [
    "#### h4\n",
    "\n",
    "some text\n",
    "\n",
    "##### h5\n",
    "\n",
    "some text\n",
    "\n",
    "###### h6\n",
    "\n",
    "some text"
   ]
  },
  {
   "cell_type": "markdown",
   "metadata": {
    "slideshow": {
     "slide_type": "slide"
    }
   },
   "source": [
    "# List and numbered lists\n",
    "\n",
    "- list\n",
    "- with\n",
    "- elements\n",
    "\n",
    "---\n",
    "\n",
    "1. list\n",
    "0. with\n",
    "0. elements\n",
    "\n",
    "---\n",
    "\n",
    "* list\n",
    "* with\n",
    "* elements\n"
   ]
  },
  {
   "cell_type": "markdown",
   "metadata": {
    "slideshow": {
     "slide_type": "slide"
    }
   },
   "source": [
    "# Some code"
   ]
  },
  {
   "cell_type": "code",
   "execution_count": 1,
   "metadata": {
    "slideshow": {
     "slide_type": "fragment"
    }
   },
   "outputs": [
    {
     "data": {
      "image/png": "[encoded data removed]",
      "text/plain": [
       "<Figure size 432x288 with 1 Axes>"
      ]
     },
     "metadata": {
      "needs_background": "light"
     },
     "output_type": "display_data"
    }
   ],
   "source": [
    "import numpy as np\n",
    "import matplotlib.pyplot as plt\n",
    "import seaborn as sns; sns.set()\n",
    "%matplotlib inline\n",
    "\n",
    "x = np.linspace(0, 1)\n",
    "plt.plot(x, np.sqrt(x))\n",
    "plt.show()"
   ]
  },
  {
   "cell_type": "code",
   "execution_count": null,
   "metadata": {
    "scrolled": true,
    "slideshow": {
     "slide_type": "skip"
    }
   },
   "outputs": [],
   "source": [
    "\n",
    "\n",
    "\n",
    "\n"
   ]
  },
  {
   "cell_type": "code",
   "execution_count": null,
   "metadata": {
    "slideshow": {
     "slide_type": "skip"
    }
   },
   "outputs": [],
   "source": []
  }
 ],
 "metadata": {
  "celltoolbar": "Diaporama",
  "kernelspec": {
   "display_name": "Python 3",
   "language": "python",
   "name": "python3"
  },
  "language_info": {
   "codemirror_mode": {
    "name": "ipython",
    "version": 3
   },
   "file_extension": ".py",
   "mimetype": "text/x-python",
   "name": "python",
   "nbconvert_exporter": "python",
   "pygments_lexer": "ipython3",
   "version": "3.7.4"
  },
  "rise": {
   "controls": false,
   "history": false,
   "theme": "black"
  },
  "toc": {
   "nav_menu": {},
   "number_sections": false,
   "sideBar": true,
   "skip_h1_title": false,
   "toc_cell": false,
   "toc_position": {},
   "toc_section_display": "block",
   "toc_window_display": false
  }
 },
 "nbformat": 4,
 "nbformat_minor": 2
}
